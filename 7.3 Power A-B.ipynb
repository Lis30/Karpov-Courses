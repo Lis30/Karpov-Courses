{
 "cells": [
  {
   "cell_type": "markdown",
   "id": "dbdde2a9-28d2-40f1-9865-0da0e67e7cb1",
   "metadata": {
    "tags": []
   },
   "source": [
    "# Задание 3.\n",
    "Проанализировать мощность АB-теста, проведеного с 2022-01-28 по 2022-02-03, группами 0 и 1, метрикой CTR.\n",
    "## Задача:\n",
    "1. При помощи библиотеки метода TTestIndPower оценить какой размер выборки нам потребуется при условии:\n",
    "    * Использовать t-test для сравнения CTR по юзерам.\n",
    "    * Размер эффекта равен 0.3\n",
    "    * Мощность теста равнялась 0.8\n",
    "2. Рассчитать чему оказался равен размер эффекта в нашем проведенном АB-тесте\n",
    "3. Сделайте вывод, могли бы использовать меньший размер выборки при сохранении мощности на уровне 0.8."
   ]
  },
  {
   "cell_type": "markdown",
   "id": "e33c0e05-6156-46a3-90af-99f8dd3f3409",
   "metadata": {},
   "source": [
    "### 1. Подготовка к работе"
   ]
  },
  {
   "cell_type": "code",
   "execution_count": 2,
   "id": "99c216cd-347f-4f78-9f13-31338dcb3e6d",
   "metadata": {},
   "outputs": [],
   "source": [
    "# Подгружаем библиотеки\n",
    "import pandas as pd\n",
    "import numpy as np\n",
    "import matplotlib.pyplot as plt\n",
    "import seaborn as sns\n",
    "import pandahouse\n",
    "from scipy import stats\n",
    "from statsmodels.stats.power import TTestIndPower"
   ]
  },
  {
   "cell_type": "markdown",
   "id": "5e717085-740a-49cc-9d21-98d07b99e4b0",
   "metadata": {},
   "source": [
    "### 2. Загрузка данных"
   ]
  },
  {
   "cell_type": "code",
   "execution_count": 3,
   "id": "63bf35bc-e686-43e0-9921-2002db0296ca",
   "metadata": {},
   "outputs": [],
   "source": [
    "# Подключение к БД\n",
    "connection = {\n",
    "    'host': 'https://clickhouse.lab.karpov.courses',\n",
    "    'password': 'dpo_python_2020',\n",
    "    'user': 'student',\n",
    "    'database': '*****************'\n",
    "}\n",
    "\n",
    "# Запрос к БД\n",
    "query = '''\n",
    "SELECT user_id,\n",
    "       exp_group,\n",
    "       countIf(user_id, action = 'like' ) as like,\n",
    "       countIf(user_id, action = 'view' ) as view,\n",
    "       like/view as ctr\n",
    "FROM simulator_20220120.feed_actions\n",
    "WHERE (toDate(time) >= '2022-01-28' AND toDate(time) <= '2022-02-03' \n",
    "AND exp_group in [0,1])\n",
    "GROUP BY user_id, exp_group\n",
    "'''\n",
    "\n",
    "# Создание датафрейма\n",
    "df = pandahouse.read_clickhouse(query, connection=connection)"
   ]
  },
  {
   "cell_type": "code",
   "execution_count": 10,
   "id": "e170d2d7-ca16-4fb5-a6e9-3a9b1fe9494c",
   "metadata": {},
   "outputs": [
    {
     "data": {
      "text/html": [
       "<div>\n",
       "<style scoped>\n",
       "    .dataframe tbody tr th:only-of-type {\n",
       "        vertical-align: middle;\n",
       "    }\n",
       "\n",
       "    .dataframe tbody tr th {\n",
       "        vertical-align: top;\n",
       "    }\n",
       "\n",
       "    .dataframe thead th {\n",
       "        text-align: right;\n",
       "    }\n",
       "</style>\n",
       "<table border=\"1\" class=\"dataframe\">\n",
       "  <thead>\n",
       "    <tr style=\"text-align: right;\">\n",
       "      <th></th>\n",
       "      <th>user_id</th>\n",
       "      <th>exp_group</th>\n",
       "      <th>like</th>\n",
       "      <th>view</th>\n",
       "      <th>ctr</th>\n",
       "    </tr>\n",
       "  </thead>\n",
       "  <tbody>\n",
       "    <tr>\n",
       "      <th>0</th>\n",
       "      <td>26117</td>\n",
       "      <td>1</td>\n",
       "      <td>5</td>\n",
       "      <td>21</td>\n",
       "      <td>0.238095</td>\n",
       "    </tr>\n",
       "    <tr>\n",
       "      <th>1</th>\n",
       "      <td>138232</td>\n",
       "      <td>1</td>\n",
       "      <td>5</td>\n",
       "      <td>29</td>\n",
       "      <td>0.172414</td>\n",
       "    </tr>\n",
       "    <tr>\n",
       "      <th>2</th>\n",
       "      <td>49204</td>\n",
       "      <td>1</td>\n",
       "      <td>10</td>\n",
       "      <td>62</td>\n",
       "      <td>0.161290</td>\n",
       "    </tr>\n",
       "    <tr>\n",
       "      <th>3</th>\n",
       "      <td>49286</td>\n",
       "      <td>1</td>\n",
       "      <td>7</td>\n",
       "      <td>19</td>\n",
       "      <td>0.368421</td>\n",
       "    </tr>\n",
       "    <tr>\n",
       "      <th>4</th>\n",
       "      <td>145957</td>\n",
       "      <td>1</td>\n",
       "      <td>54</td>\n",
       "      <td>129</td>\n",
       "      <td>0.418605</td>\n",
       "    </tr>\n",
       "    <tr>\n",
       "      <th>...</th>\n",
       "      <td>...</td>\n",
       "      <td>...</td>\n",
       "      <td>...</td>\n",
       "      <td>...</td>\n",
       "      <td>...</td>\n",
       "    </tr>\n",
       "    <tr>\n",
       "      <th>25994</th>\n",
       "      <td>3681</td>\n",
       "      <td>0</td>\n",
       "      <td>6</td>\n",
       "      <td>28</td>\n",
       "      <td>0.214286</td>\n",
       "    </tr>\n",
       "    <tr>\n",
       "      <th>25995</th>\n",
       "      <td>110956</td>\n",
       "      <td>1</td>\n",
       "      <td>12</td>\n",
       "      <td>63</td>\n",
       "      <td>0.190476</td>\n",
       "    </tr>\n",
       "    <tr>\n",
       "      <th>25996</th>\n",
       "      <td>132567</td>\n",
       "      <td>1</td>\n",
       "      <td>18</td>\n",
       "      <td>66</td>\n",
       "      <td>0.272727</td>\n",
       "    </tr>\n",
       "    <tr>\n",
       "      <th>25997</th>\n",
       "      <td>30872</td>\n",
       "      <td>1</td>\n",
       "      <td>25</td>\n",
       "      <td>82</td>\n",
       "      <td>0.304878</td>\n",
       "    </tr>\n",
       "    <tr>\n",
       "      <th>25998</th>\n",
       "      <td>11718</td>\n",
       "      <td>0</td>\n",
       "      <td>7</td>\n",
       "      <td>37</td>\n",
       "      <td>0.189189</td>\n",
       "    </tr>\n",
       "  </tbody>\n",
       "</table>\n",
       "<p>25999 rows × 5 columns</p>\n",
       "</div>"
      ],
      "text/plain": [
       "       user_id  exp_group  like  view       ctr\n",
       "0        26117          1     5    21  0.238095\n",
       "1       138232          1     5    29  0.172414\n",
       "2        49204          1    10    62  0.161290\n",
       "3        49286          1     7    19  0.368421\n",
       "4       145957          1    54   129  0.418605\n",
       "...        ...        ...   ...   ...       ...\n",
       "25994     3681          0     6    28  0.214286\n",
       "25995   110956          1    12    63  0.190476\n",
       "25996   132567          1    18    66  0.272727\n",
       "25997    30872          1    25    82  0.304878\n",
       "25998    11718          0     7    37  0.189189\n",
       "\n",
       "[25999 rows x 5 columns]"
      ]
     },
     "execution_count": 10,
     "metadata": {},
     "output_type": "execute_result"
    }
   ],
   "source": [
    "# Проверка df\n",
    "df"
   ]
  },
  {
   "cell_type": "markdown",
   "id": "3e5370a2-67b0-4347-a821-5aea3bcdc935",
   "metadata": {},
   "source": [
    "### 3. Анализ данных"
   ]
  },
  {
   "cell_type": "markdown",
   "id": "64dde411-9c5f-4146-ad8e-5d81df80d029",
   "metadata": {},
   "source": [
    "Соберем необходимую информацию по группам 0 и 1"
   ]
  },
  {
   "cell_type": "code",
   "execution_count": 86,
   "id": "30d99ac7-4058-4f52-95e9-a70ea554467d",
   "metadata": {},
   "outputs": [
    {
     "name": "stdout",
     "output_type": "stream",
     "text": [
      "n_0: 12997 std_0: 0.08786700247435748 mean_0: 0.22195492956578472\n"
     ]
    }
   ],
   "source": [
    "# Информация по группе 1\n",
    "n_0 = df[df.exp_group == 0].shape[0]\n",
    "std_0 = np.std(df[df.exp_group == 0].ctr)\n",
    "mean_0 = np.mean(df[df.exp_group == 0].ctr)\n",
    "print('n_0:', n_0,'std_0:', std_0, 'mean_0:', mean_0)"
   ]
  },
  {
   "cell_type": "code",
   "execution_count": 87,
   "id": "506d6f2a-9fb3-4b9d-8f40-9222de639e7c",
   "metadata": {},
   "outputs": [
    {
     "name": "stdout",
     "output_type": "stream",
     "text": [
      "n_1: 13002 std_1: 0.0901429791358773 mean_1: 0.23648646948093363\n"
     ]
    }
   ],
   "source": [
    "# Информация по группе 1\n",
    "n_1 = df[df.exp_group == 1].shape[0]\n",
    "std_1 = np.std(df[df.exp_group == 1].ctr)\n",
    "mean_1 = np.mean(df[df.exp_group == 1].ctr)\n",
    "print('n_1:', n_1,'std_1:', std_1, 'mean_1:', mean_1)"
   ]
  },
  {
   "cell_type": "code",
   "execution_count": 89,
   "id": "cfa10ae7-d4e9-4734-9a6a-c48d17c07576",
   "metadata": {},
   "outputs": [
    {
     "data": {
      "text/plain": [
       "1.0003847041624991"
      ]
     },
     "execution_count": 89,
     "metadata": {},
     "output_type": "execute_result"
    }
   ],
   "source": [
    "ratio = n_1 / n_0\n",
    "ratio"
   ]
  },
  {
   "cell_type": "markdown",
   "id": "1ce004f9-d406-4dda-a0f7-f5513e07db55",
   "metadata": {},
   "source": [
    "**Задача 1. При помощи библиотеки метода TTestIndPower оценить какой размер выборки нам потребуется, при условии:**\n",
    "* размер эффекта = 0.3,\n",
    "* мощность эффекта = 0.8\n",
    "* для сравнения используем t-test "
   ]
  },
  {
   "cell_type": "code",
   "execution_count": 71,
   "id": "828941cb-7c89-4d8e-b23b-24d59da2b43d",
   "metadata": {},
   "outputs": [
    {
     "data": {
      "text/plain": [
       "175.35094960543293"
      ]
     },
     "execution_count": 71,
     "metadata": {},
     "output_type": "execute_result"
    }
   ],
   "source": [
    "# Необходимый размер выборки\n",
    "sample_size = TTestIndPower().solve_power(effect_size = 0.3, power = 0.8, alpha = 0.05, ratio=ratio)\n",
    "sample_size"
   ]
  },
  {
   "cell_type": "markdown",
   "id": "f047e36e-aa7e-446d-809d-9aff0c3b64cf",
   "metadata": {},
   "source": [
    "**Вывод:** минимальный размер выборки равен 176 при условии, что размер эффекта равен 0.3, мощность нашего теста равна 0.8"
   ]
  },
  {
   "cell_type": "markdown",
   "id": "a8e4f540-c38e-4a05-9873-3abdcef56e7f",
   "metadata": {},
   "source": [
    "**Задача 2. Рассчитать чему оказался равен размер эффекта в нашем проведенном АB-тесте**"
   ]
  },
  {
   "cell_type": "code",
   "execution_count": 65,
   "id": "bdaf5a51-adc0-46ea-b287-906d9f567e03",
   "metadata": {},
   "outputs": [
    {
     "data": {
      "text/plain": [
       "0.1632528293594707"
      ]
     },
     "execution_count": 65,
     "metadata": {},
     "output_type": "execute_result"
    }
   ],
   "source": [
    "# Рассчитаем меру эффекта (стандартизированная средняя разница)\n",
    "effect_size_AB = (mean_1 - mean_0) / ( ((n_1 - 1) * std_1**2 + (n_0 - 1) * std_0**2) / (n_1 + n_0 - 2) )**0.5\n",
    "effect_size_AB"
   ]
  },
  {
   "cell_type": "markdown",
   "id": "41891eb1-d66b-47fb-aa8e-7da155fdf9df",
   "metadata": {},
   "source": [
    "**Вывод:** размер эффекта оказался равен 0.16"
   ]
  },
  {
   "cell_type": "markdown",
   "id": "dca690b0-e356-49b0-8ef9-e1ea697ab5af",
   "metadata": {},
   "source": [
    "**Задача 3. Сделайте вывод, могли бы использовать меньший размер выборки при сохранении мощности на уровне 0.8**"
   ]
  },
  {
   "cell_type": "code",
   "execution_count": 96,
   "id": "3d10750d-5c6e-45f4-8ebd-dddae59ed0ef",
   "metadata": {},
   "outputs": [
    {
     "data": {
      "text/plain": [
       "589.8483073834748"
      ]
     },
     "execution_count": 96,
     "metadata": {},
     "output_type": "execute_result"
    }
   ],
   "source": [
    "# Размер выборки нашего A/B теста\n",
    "sample_size_AB = TTestIndPower().solve_power(effect_size = effect_size_AB, power = 0.8, alpha = 0.05, ratio=ratio)\n",
    "sample_size_AB"
   ]
  },
  {
   "cell_type": "markdown",
   "id": "c2a6b518-66a8-413d-a031-8520c14ac33f",
   "metadata": {},
   "source": [
    "**Вывод:** размер выборки в нашем тесте оказался равен 590. Таким образом при сохранинии мощности теста равным 0.8, мы могли бы использовать меньший размер выборки"
   ]
  }
 ],
 "metadata": {
  "kernelspec": {
   "display_name": "Python 3 (ipykernel)",
   "language": "python",
   "name": "python3"
  },
  "language_info": {
   "codemirror_mode": {
    "name": "ipython",
    "version": 3
   },
   "file_extension": ".py",
   "mimetype": "text/x-python",
   "name": "python",
   "nbconvert_exporter": "python",
   "pygments_lexer": "ipython3",
   "version": "3.8.10"
  }
 },
 "nbformat": 4,
 "nbformat_minor": 5
}
