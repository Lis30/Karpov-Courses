{
 "cells": [
  {
   "cell_type": "markdown",
   "id": "cb169f6a-7398-464a-8ab7-d154f9073ea3",
   "metadata": {
    "tags": []
   },
   "source": [
    "# Задание 1.\n",
    "У нас есть данные АА-теста с '2022-01-07' по '2022-01-13'. Вам нужно сделать симуляцию, как будто мы провели 10000 АА тестов. \n",
    "На каждой итерации вам нужно сформировать подвыборки с повторением в 500 юзеров из 2 и 3 экспериментальной группы. \n",
    "Провести сравнение этих подвыборок t-testом. \n",
    "\n",
    "### Задача:\n",
    "1. Построить гистограмму распределения получившихся 10000 p-values.\n",
    "2. Посчитать, какой процент p values оказался меньше либо равен 0.05\n",
    "3. Написать вывод по проведенному АА-тесту, корректно ли работает наша система сплитования."
   ]
  },
  {
   "cell_type": "markdown",
   "id": "1e02bc33-5fda-4d12-8c73-927d5802dbda",
   "metadata": {
    "tags": []
   },
   "source": [
    "### 1. Подготовка к работе"
   ]
  },
  {
   "cell_type": "code",
   "execution_count": 79,
   "id": "ae884ad3-8ef8-495c-982b-d0f24dc0cc88",
   "metadata": {},
   "outputs": [],
   "source": [
    "# Подгружаем библиотеки\n",
    "import pandas as pd\n",
    "import numpy as np\n",
    "import matplotlib.pyplot as plt\n",
    "import seaborn as sns\n",
    "import pandahouse\n",
    "from scipy import stats"
   ]
  },
  {
   "cell_type": "markdown",
   "id": "1c8fe47a-fe48-4200-8d6c-3a85b48e9a39",
   "metadata": {
    "tags": []
   },
   "source": [
    "### 2. Загрузка данных"
   ]
  },
  {
   "cell_type": "code",
   "execution_count": 80,
   "id": "b74a0a4d-4774-4f61-8256-6fccc1b2342c",
   "metadata": {},
   "outputs": [],
   "source": [
    "# Подключение к БД\n",
    "connection = {\n",
    "    'host': 'https://clickhouse.lab.karpov.courses',\n",
    "    'password': 'dpo_python_2020',\n",
    "    'user': 'student',\n",
    "    'database': '*****************'\n",
    "}\n",
    "\n",
    "# Запрос к БД\n",
    "query = '''\n",
    "SELECT user_id,\n",
    "       exp_group,\n",
    "       countIf(user_id, action = 'like' ) as like,\n",
    "       countIf(user_id, action = 'view' ) as view,\n",
    "       like/view as ctr\n",
    "FROM simulator_20220120.feed_actions\n",
    "WHERE (toDate(time) >= '2022-01-07' AND toDate(time) <= '2022-01-13' \n",
    "AND exp_group in [2,3])\n",
    "GROUP BY user_id, exp_group\n",
    "'''\n",
    "\n",
    "# Создание датафрейма\n",
    "df = pandahouse.read_clickhouse(query, connection=connection)"
   ]
  },
  {
   "cell_type": "code",
   "execution_count": 81,
   "id": "6e1e156c-ace7-433d-ac1d-b7b4dace0e2d",
   "metadata": {},
   "outputs": [
    {
     "data": {
      "text/html": [
       "<div>\n",
       "<style scoped>\n",
       "    .dataframe tbody tr th:only-of-type {\n",
       "        vertical-align: middle;\n",
       "    }\n",
       "\n",
       "    .dataframe tbody tr th {\n",
       "        vertical-align: top;\n",
       "    }\n",
       "\n",
       "    .dataframe thead th {\n",
       "        text-align: right;\n",
       "    }\n",
       "</style>\n",
       "<table border=\"1\" class=\"dataframe\">\n",
       "  <thead>\n",
       "    <tr style=\"text-align: right;\">\n",
       "      <th></th>\n",
       "      <th>user_id</th>\n",
       "      <th>exp_group</th>\n",
       "      <th>like</th>\n",
       "      <th>view</th>\n",
       "      <th>ctr</th>\n",
       "    </tr>\n",
       "  </thead>\n",
       "  <tbody>\n",
       "    <tr>\n",
       "      <th>0</th>\n",
       "      <td>115383</td>\n",
       "      <td>3</td>\n",
       "      <td>11</td>\n",
       "      <td>36</td>\n",
       "      <td>0.305556</td>\n",
       "    </tr>\n",
       "    <tr>\n",
       "      <th>1</th>\n",
       "      <td>123580</td>\n",
       "      <td>3</td>\n",
       "      <td>15</td>\n",
       "      <td>92</td>\n",
       "      <td>0.163043</td>\n",
       "    </tr>\n",
       "    <tr>\n",
       "      <th>2</th>\n",
       "      <td>131473</td>\n",
       "      <td>2</td>\n",
       "      <td>26</td>\n",
       "      <td>148</td>\n",
       "      <td>0.175676</td>\n",
       "    </tr>\n",
       "    <tr>\n",
       "      <th>3</th>\n",
       "      <td>23985</td>\n",
       "      <td>2</td>\n",
       "      <td>12</td>\n",
       "      <td>66</td>\n",
       "      <td>0.181818</td>\n",
       "    </tr>\n",
       "    <tr>\n",
       "      <th>4</th>\n",
       "      <td>24523</td>\n",
       "      <td>2</td>\n",
       "      <td>17</td>\n",
       "      <td>120</td>\n",
       "      <td>0.141667</td>\n",
       "    </tr>\n",
       "    <tr>\n",
       "      <th>...</th>\n",
       "      <td>...</td>\n",
       "      <td>...</td>\n",
       "      <td>...</td>\n",
       "      <td>...</td>\n",
       "      <td>...</td>\n",
       "    </tr>\n",
       "    <tr>\n",
       "      <th>17044</th>\n",
       "      <td>122008</td>\n",
       "      <td>3</td>\n",
       "      <td>4</td>\n",
       "      <td>31</td>\n",
       "      <td>0.129032</td>\n",
       "    </tr>\n",
       "    <tr>\n",
       "      <th>17045</th>\n",
       "      <td>25383</td>\n",
       "      <td>2</td>\n",
       "      <td>16</td>\n",
       "      <td>57</td>\n",
       "      <td>0.280702</td>\n",
       "    </tr>\n",
       "    <tr>\n",
       "      <th>17046</th>\n",
       "      <td>122190</td>\n",
       "      <td>3</td>\n",
       "      <td>25</td>\n",
       "      <td>74</td>\n",
       "      <td>0.337838</td>\n",
       "    </tr>\n",
       "    <tr>\n",
       "      <th>17047</th>\n",
       "      <td>108927</td>\n",
       "      <td>2</td>\n",
       "      <td>8</td>\n",
       "      <td>33</td>\n",
       "      <td>0.242424</td>\n",
       "    </tr>\n",
       "    <tr>\n",
       "      <th>17048</th>\n",
       "      <td>17310</td>\n",
       "      <td>2</td>\n",
       "      <td>2</td>\n",
       "      <td>14</td>\n",
       "      <td>0.142857</td>\n",
       "    </tr>\n",
       "  </tbody>\n",
       "</table>\n",
       "<p>17049 rows × 5 columns</p>\n",
       "</div>"
      ],
      "text/plain": [
       "       user_id  exp_group  like  view       ctr\n",
       "0       115383          3    11    36  0.305556\n",
       "1       123580          3    15    92  0.163043\n",
       "2       131473          2    26   148  0.175676\n",
       "3        23985          2    12    66  0.181818\n",
       "4        24523          2    17   120  0.141667\n",
       "...        ...        ...   ...   ...       ...\n",
       "17044   122008          3     4    31  0.129032\n",
       "17045    25383          2    16    57  0.280702\n",
       "17046   122190          3    25    74  0.337838\n",
       "17047   108927          2     8    33  0.242424\n",
       "17048    17310          2     2    14  0.142857\n",
       "\n",
       "[17049 rows x 5 columns]"
      ]
     },
     "execution_count": 81,
     "metadata": {},
     "output_type": "execute_result"
    }
   ],
   "source": [
    "# Проверка df\n",
    "df"
   ]
  },
  {
   "cell_type": "markdown",
   "id": "97fbe018-efd0-46a5-bbe6-d71b8b39269b",
   "metadata": {
    "tags": []
   },
   "source": [
    "### 3. Анализ данных"
   ]
  },
  {
   "cell_type": "markdown",
   "id": "4d55ae82-4446-46ac-9c36-3afcdbfb2cf9",
   "metadata": {},
   "source": [
    "Распределения для 2й и 3й экспериментальной группы"
   ]
  },
  {
   "cell_type": "code",
   "execution_count": 82,
   "id": "ff73d0aa-3b97-457c-b411-cee6ea0c470a",
   "metadata": {},
   "outputs": [
    {
     "data": {
      "text/plain": [
       "<seaborn.axisgrid.FacetGrid at 0x7f35e2eae0a0>"
      ]
     },
     "execution_count": 82,
     "metadata": {},
     "output_type": "execute_result"
    },
    {
     "data": {
      "image/png": "[encoded data removed]",
      "text/plain": [
       "<Figure size 360x360 with 1 Axes>"
      ]
     },
     "metadata": {
      "needs_background": "light"
     },
     "output_type": "display_data"
    }
   ],
   "source": [
    "# Распределение экспериментальной группы 2\n",
    "sns.displot(df[df.exp_group == 2].ctr, kde = False)"
   ]
  },
  {
   "cell_type": "code",
   "execution_count": 83,
   "id": "7c20ebbc-7778-44b2-97a5-2d173203a010",
   "metadata": {},
   "outputs": [
    {
     "data": {
      "text/plain": [
       "<seaborn.axisgrid.FacetGrid at 0x7f35e318dcd0>"
      ]
     },
     "execution_count": 83,
     "metadata": {},
     "output_type": "execute_result"
    },
    {
     "data": {
      "image/png": "[encoded data removed]",
      "text/plain": [
       "<Figure size 360x360 with 1 Axes>"
      ]
     },
     "metadata": {
      "needs_background": "light"
     },
     "output_type": "display_data"
    }
   ],
   "source": [
    "# Распределение экспериментальной группы 3\n",
    "sns.displot(df[df.exp_group == 3].ctr, kde = False)"
   ]
  },
  {
   "cell_type": "markdown",
   "id": "b2606885-14b7-4e07-8ffe-93d470c2e8e9",
   "metadata": {},
   "source": [
    "Xарактер распределения и медиана схожие. В целом явных визуальных различий в распределениях между экспериментальными группами не замечено"
   ]
  },
  {
   "cell_type": "code",
   "execution_count": 90,
   "id": "df6dd747-3ea8-437f-b4f2-461c1df3a9aa",
   "metadata": {},
   "outputs": [
    {
     "name": "stdout",
     "output_type": "stream",
     "text": [
      "CPU times: user 24.4 s, sys: 36 ms, total: 24.5 s\n",
      "Wall time: 24.5 s\n"
     ]
    }
   ],
   "source": [
    "%%time\n",
    "\n",
    "# Проводим выборку с повторениями в экспериментальных группах 2 и 3\n",
    "count_tests = 10000\n",
    "n_samples = 500\n",
    "ctr_list = []\n",
    "for i in range(count_tests):\n",
    "    first_group = df[df.exp_group == 2].ctr.sample(n_samples, replace=True)\n",
    "    secong_group = df[df.exp_group == 3].ctr.sample(n_samples, replace=True)\n",
    "    p_val = stats.ttest_ind(first_group, secong_group, equal_var = False)[1]\n",
    "    ctr_list.append(p_val)"
   ]
  },
  {
   "cell_type": "markdown",
   "id": "4bc1bd64-cbcc-4563-9817-15e9a03f4c51",
   "metadata": {},
   "source": [
    "**Задача 1. Гистограмма 10000 p-values**"
   ]
  },
  {
   "cell_type": "code",
   "execution_count": 91,
   "id": "cffc695e-a91c-4730-87a5-df2c842f6bb5",
   "metadata": {},
   "outputs": [
    {
     "name": "stdout",
     "output_type": "stream",
     "text": [
      "0.0546\n"
     ]
    },
    {
     "data": {
      "image/png": "[encoded data removed]",
      "text/plain": [
       "<Figure size 432x288 with 1 Axes>"
      ]
     },
     "metadata": {
      "needs_background": "light"
     },
     "output_type": "display_data"
    }
   ],
   "source": [
    "# тестов 10000, подвыворока 500\n",
    "print(((pd.Series(ctr_list) <= 0.05).sum() / len(ctr_list)))\n",
    "sns.histplot(ctr_list);"
   ]
  },
  {
   "cell_type": "markdown",
   "id": "223a480c-71e4-4533-8b2e-202b73c52d31",
   "metadata": {},
   "source": [
    "**Задача 2. Процент случаев, когда p-values меньше либо равен 0.05**"
   ]
  },
  {
   "cell_type": "code",
   "execution_count": 92,
   "id": "a8147367-873a-480b-9742-9808ca43d6b1",
   "metadata": {},
   "outputs": [
    {
     "data": {
      "text/plain": [
       "0.0546"
      ]
     },
     "execution_count": 92,
     "metadata": {},
     "output_type": "execute_result"
    }
   ],
   "source": [
    "p_value = ((pd.Series(ctr_list) <= 0.05).sum() / len(ctr_list))\n",
    "p_value"
   ]
  },
  {
   "cell_type": "markdown",
   "id": "3af07320-24d1-4469-b89e-c0de1e669dd6",
   "metadata": {},
   "source": [
    "**Задача 3. Написать вывод по проведенному АА-тесту, корректно ли работает наша система сплитования.** "
   ]
  },
  {
   "cell_type": "markdown",
   "id": "8feeb088-4cb5-4aa6-94ab-e04a83f3cdbe",
   "metadata": {
    "tags": []
   },
   "source": [
    "**Вывод:**\n",
    "Полученная гистограмма позволяет сделать вывод, что p-value распространено равномерно. А при проверке системы \n",
    "сплитования было установлено, что в 5.37% случаях p-value меньше или равно заданному порогу альфра 0.05.\n",
    "Вывод: система сплитования работает корректно."
   ]
  },
  {
   "cell_type": "markdown",
   "id": "d7bf21ee-7c08-4d4f-b6bb-28df7ad5e525",
   "metadata": {
    "jp-MarkdownHeadingCollapsed": true,
    "tags": []
   },
   "source": [
    "## BONUS:\n",
    "    "
   ]
  },
  {
   "cell_type": "markdown",
   "id": "b9fbc0ab-7fed-4194-911d-0f0e2734c32e",
   "metadata": {},
   "source": [
    "Проверка процента p-value < 0.05 в зависимости от количества наблюдений"
   ]
  },
  {
   "cell_type": "markdown",
   "id": "c617db2d-ae16-4664-bfce-bcb0e3672d71",
   "metadata": {
    "tags": []
   },
   "source": [
    "### Сравнение ttest_ind"
   ]
  },
  {
   "cell_type": "code",
   "execution_count": 68,
   "id": "36b9ecb2-c12c-4a59-a46b-34ee3a5bb20b",
   "metadata": {},
   "outputs": [],
   "source": [
    "def check_split(n_samples, n_tests = 10000):\n",
    "    ctr_list = []\n",
    "    for i in range(n_tests):\n",
    "        first_group = df[df.exp_group == 2].ctr.sample(n_samples, replace=True)\n",
    "        secong_group = df[df.exp_group == 3].ctr.sample(n_samples, replace=True)\n",
    "        p_val = stats.ttest_ind(first_group, secong_group, equal_var = False)[1]\n",
    "        ctr_list.append(p_val)\n",
    "    print('Прокрас AA-теста:', round((pd.Series(ctr_list) <= 0.05).sum() / len(ctr_list) * 100, 3), '%')\n",
    "    sns.histplot(ctr_list);"
   ]
  },
  {
   "cell_type": "code",
   "execution_count": 69,
   "id": "793fe427-3905-4afa-9f81-233e277f7f7b",
   "metadata": {},
   "outputs": [
    {
     "name": "stdout",
     "output_type": "stream",
     "text": [
      "Прокрас AA-теста: 4.39 %\n"
     ]
    },
    {
     "data": {
      "image/png": "[encoded data removed]",
      "text/plain": [
       "<Figure size 432x288 with 1 Axes>"
      ]
     },
     "metadata": {
      "needs_background": "light"
     },
     "output_type": "display_data"
    }
   ],
   "source": [
    "check_split(n_samples = 10, n_tests = 10000)"
   ]
  },
  {
   "cell_type": "code",
   "execution_count": 70,
   "id": "ef202181-9f9e-4d6b-b882-2842f2ea89ba",
   "metadata": {},
   "outputs": [
    {
     "name": "stdout",
     "output_type": "stream",
     "text": [
      "Прокрас AA-теста: 5.09 %\n"
     ]
    },
    {
     "data": {
      "image/png": "[encoded data removed]",
      "text/plain": [
       "<Figure size 432x288 with 1 Axes>"
      ]
     },
     "metadata": {
      "needs_background": "light"
     },
     "output_type": "display_data"
    }
   ],
   "source": [
    "check_split(n_samples = 500, n_tests = 10000)"
   ]
  },
  {
   "cell_type": "code",
   "execution_count": 71,
   "id": "9f592678-fc3a-48a0-9878-a9082ecbcaf9",
   "metadata": {},
   "outputs": [
    {
     "name": "stdout",
     "output_type": "stream",
     "text": [
      "Прокрас AA-теста: 7.74 %\n"
     ]
    },
    {
     "data": {
      "image/png": "[encoded data removed]",
      "text/plain": [
       "<Figure size 432x288 with 1 Axes>"
      ]
     },
     "metadata": {
      "needs_background": "light"
     },
     "output_type": "display_data"
    }
   ],
   "source": [
    "check_split(n_samples = 3000, n_tests = 10000)"
   ]
  },
  {
   "cell_type": "code",
   "execution_count": 72,
   "id": "768547d8-3837-451a-b9bb-731ab898f37e",
   "metadata": {},
   "outputs": [
    {
     "name": "stdout",
     "output_type": "stream",
     "text": [
      "Прокрас AA-теста: 10.42 %\n"
     ]
    },
    {
     "data": {
      "image/png": "[encoded data removed]",
      "text/plain": [
       "<Figure size 432x288 with 1 Axes>"
      ]
     },
     "metadata": {
      "needs_background": "light"
     },
     "output_type": "display_data"
    }
   ],
   "source": [
    "check_split(n_samples = 8000, n_tests = 10000)"
   ]
  },
  {
   "cell_type": "markdown",
   "id": "c9abfae4-7d8a-4d7c-9551-b732766d6313",
   "metadata": {
    "tags": []
   },
   "source": [
    "### Сравнение mannwhitneyu"
   ]
  },
  {
   "cell_type": "code",
   "execution_count": 87,
   "id": "2ade52de-d86a-4976-81e7-744ab4c92797",
   "metadata": {},
   "outputs": [],
   "source": [
    "def check_split_MW(n_samples, n_tests = 10000):\n",
    "    ctr_list = []\n",
    "    for i in range(n_tests):\n",
    "        first_group = df[df.exp_group == 2].ctr.sample(n_samples, replace=True)\n",
    "        secong_group = df[df.exp_group == 3].ctr.sample(n_samples, replace=True)\n",
    "        p_val = stats.mannwhitneyu(first_group, secong_group)[1]\n",
    "        ctr_list.append(p_val)\n",
    "    print('Прокрас AA-теста:', round((pd.Series(ctr_list) <= 0.05).sum() / len(ctr_list) * 100, 3), '%')\n",
    "    sns.histplot(ctr_list);"
   ]
  },
  {
   "cell_type": "code",
   "execution_count": 97,
   "id": "3772b528-db3c-46ce-9277-88c92a5b30c6",
   "metadata": {},
   "outputs": [
    {
     "name": "stdout",
     "output_type": "stream",
     "text": [
      "Прокрас AA-теста: 4.31 %\n"
     ]
    },
    {
     "data": {
      "image/png": "[encoded data removed]",
      "text/plain": [
       "<Figure size 432x288 with 1 Axes>"
      ]
     },
     "metadata": {
      "needs_background": "light"
     },
     "output_type": "display_data"
    }
   ],
   "source": [
    "check_split_MW(n_samples = 10, n_tests = 10000)"
   ]
  },
  {
   "cell_type": "code",
   "execution_count": 98,
   "id": "a36aaeca-98bc-4913-aa4a-ba41718bd1f5",
   "metadata": {},
   "outputs": [
    {
     "name": "stdout",
     "output_type": "stream",
     "text": [
      "Прокрас AA-теста: 5.59 %\n"
     ]
    },
    {
     "data": {
      "image/png": "[encoded data removed]",
      "text/plain": [
       "<Figure size 432x288 with 1 Axes>"
      ]
     },
     "metadata": {
      "needs_background": "light"
     },
     "output_type": "display_data"
    }
   ],
   "source": [
    "check_split_MW(n_samples = 500, n_tests = 10000)"
   ]
  },
  {
   "cell_type": "code",
   "execution_count": 99,
   "id": "014022d7-233c-4c9f-a388-21eab8970979",
   "metadata": {},
   "outputs": [
    {
     "name": "stdout",
     "output_type": "stream",
     "text": [
      "Прокрас AA-теста: 6.56 %\n"
     ]
    },
    {
     "data": {
      "image/png": "[encoded data removed]",
      "text/plain": [
       "<Figure size 432x288 with 1 Axes>"
      ]
     },
     "metadata": {
      "needs_background": "light"
     },
     "output_type": "display_data"
    }
   ],
   "source": [
    "check_split_MW(n_samples = 3000, n_tests = 10000)"
   ]
  },
  {
   "cell_type": "code",
   "execution_count": 100,
   "id": "602aa39c-7b41-43e0-b102-113ef15c370f",
   "metadata": {},
   "outputs": [
    {
     "name": "stdout",
     "output_type": "stream",
     "text": [
      "Прокрас AA-теста: 9.47 %\n"
     ]
    },
    {
     "data": {
      "image/png": "[encoded data removed]",
      "text/plain": [
       "<Figure size 432x288 with 1 Axes>"
      ]
     },
     "metadata": {
      "needs_background": "light"
     },
     "output_type": "display_data"
    }
   ],
   "source": [
    "check_split_MW(n_samples = 8000, n_tests = 10000)"
   ]
  }
 ],
 "metadata": {
  "kernelspec": {
   "display_name": "Python 3 (ipykernel)",
   "language": "python",
   "name": "python3"
  },
  "language_info": {
   "codemirror_mode": {
    "name": "ipython",
    "version": 3
   },
   "file_extension": ".py",
   "mimetype": "text/x-python",
   "name": "python",
   "nbconvert_exporter": "python",
   "pygments_lexer": "ipython3",
   "version": "3.8.10"
  }
 },
 "nbformat": 4,
 "nbformat_minor": 5
}
