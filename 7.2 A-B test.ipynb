{
 "cells": [
  {
   "cell_type": "markdown",
   "id": "d6110f2f-1109-4a3b-b9d6-b9374be33f5c",
   "metadata": {
    "tags": []
   },
   "source": [
    "# Задание 2.\n",
    "Пришло время проанализировать результаты эксперимента, который мы провели вместе с командой дата сайентистов. Эксперимент проходил  с 2022-01-28 по 2022-02-03 включительно. Для эксперимента были задействованы 0 и 1 группы.  \n",
    "В 1 группе был использован новый алгоритм рекомендации постов, 0 группа использовалась в качестве контроля. \n",
    "Основная гипотеза заключается в том, что новый алгоритм в 1 группе приведет к увеличению CTR. \n",
    "Ваша задача — проанализировать данные АB-теста.\n",
    "\n",
    "### Задачи:\n",
    "1. Выбрать метод анализа и сравнить CTR в двух группах.\n",
    "2. Провести контрольную проверку, что новый алгоритм не привел к тому, что сократилось число просмотров у пользователей. Типичная ситуация в АB-тестах — вырастили число лайков, но уменьшили число просмотров.\n",
    "3. Написать рекомендацию, будем ли мы раскатывать новый алгоритм на всех новых пользователей."
   ]
  },
  {
   "cell_type": "markdown",
   "id": "9ad73a3f-8b6c-45cb-88b5-33b5f44c60e0",
   "metadata": {},
   "source": [
    "### 1. Подготовка к работе"
   ]
  },
  {
   "cell_type": "code",
   "execution_count": 2,
   "id": "d86ef028-b2a1-42d8-ba27-d97dd746dc35",
   "metadata": {},
   "outputs": [],
   "source": [
    "# Подгружаем библиотеки\n",
    "import pandas as pd\n",
    "import numpy as np\n",
    "import matplotlib.pyplot as plt\n",
    "import seaborn as sns\n",
    "import pandahouse\n",
    "from scipy import stats"
   ]
  },
  {
   "cell_type": "markdown",
   "id": "0834b915-658d-4f28-b918-473d98ff89ab",
   "metadata": {},
   "source": [
    "### 2. Загрузка данных"
   ]
  },
  {
   "cell_type": "code",
   "execution_count": 2,
   "id": "4a5d0ffe-1c5b-40b5-ad25-cc9e979e390f",
   "metadata": {},
   "outputs": [],
   "source": [
    "# Подключение к БД\n",
    "connection = {\n",
    "    'host': 'https://clickhouse.lab.karpov.courses',\n",
    "    'password': 'dpo_python_2020',\n",
    "    'user': 'student',\n",
    "    'database': '*****************'\n",
    "}\n",
    "\n",
    "# Запрос к БД\n",
    "query = '''\n",
    "SELECT user_id,\n",
    "       exp_group,\n",
    "       countIf(user_id, action = 'like' ) as like,\n",
    "       countIf(user_id, action = 'view' ) as view,\n",
    "       like/view as ctr\n",
    "FROM simulator_20220120.feed_actions\n",
    "WHERE (toDate(time) >= '2022-01-28' AND toDate(time) <= '2022-02-03' \n",
    "AND exp_group in [0,1])\n",
    "GROUP BY user_id, exp_group\n",
    "'''\n",
    "\n",
    "# Создание датафрейма\n",
    "df = pandahouse.read_clickhouse(query, connection=connection)"
   ]
  },
  {
   "cell_type": "code",
   "execution_count": 3,
   "id": "cdd44dbd-d88f-4c8e-a06c-4225227b6e19",
   "metadata": {},
   "outputs": [
    {
     "data": {
      "text/html": [
       "<div>\n",
       "<style scoped>\n",
       "    .dataframe tbody tr th:only-of-type {\n",
       "        vertical-align: middle;\n",
       "    }\n",
       "\n",
       "    .dataframe tbody tr th {\n",
       "        vertical-align: top;\n",
       "    }\n",
       "\n",
       "    .dataframe thead th {\n",
       "        text-align: right;\n",
       "    }\n",
       "</style>\n",
       "<table border=\"1\" class=\"dataframe\">\n",
       "  <thead>\n",
       "    <tr style=\"text-align: right;\">\n",
       "      <th></th>\n",
       "      <th>user_id</th>\n",
       "      <th>exp_group</th>\n",
       "      <th>like</th>\n",
       "      <th>view</th>\n",
       "      <th>ctr</th>\n",
       "    </tr>\n",
       "  </thead>\n",
       "  <tbody>\n",
       "    <tr>\n",
       "      <th>0</th>\n",
       "      <td>26117</td>\n",
       "      <td>1</td>\n",
       "      <td>5</td>\n",
       "      <td>21</td>\n",
       "      <td>0.238095</td>\n",
       "    </tr>\n",
       "    <tr>\n",
       "      <th>1</th>\n",
       "      <td>138232</td>\n",
       "      <td>1</td>\n",
       "      <td>5</td>\n",
       "      <td>29</td>\n",
       "      <td>0.172414</td>\n",
       "    </tr>\n",
       "    <tr>\n",
       "      <th>2</th>\n",
       "      <td>49204</td>\n",
       "      <td>1</td>\n",
       "      <td>10</td>\n",
       "      <td>62</td>\n",
       "      <td>0.161290</td>\n",
       "    </tr>\n",
       "    <tr>\n",
       "      <th>3</th>\n",
       "      <td>49286</td>\n",
       "      <td>1</td>\n",
       "      <td>7</td>\n",
       "      <td>19</td>\n",
       "      <td>0.368421</td>\n",
       "    </tr>\n",
       "    <tr>\n",
       "      <th>4</th>\n",
       "      <td>145957</td>\n",
       "      <td>1</td>\n",
       "      <td>54</td>\n",
       "      <td>129</td>\n",
       "      <td>0.418605</td>\n",
       "    </tr>\n",
       "    <tr>\n",
       "      <th>...</th>\n",
       "      <td>...</td>\n",
       "      <td>...</td>\n",
       "      <td>...</td>\n",
       "      <td>...</td>\n",
       "      <td>...</td>\n",
       "    </tr>\n",
       "    <tr>\n",
       "      <th>25994</th>\n",
       "      <td>3681</td>\n",
       "      <td>0</td>\n",
       "      <td>6</td>\n",
       "      <td>28</td>\n",
       "      <td>0.214286</td>\n",
       "    </tr>\n",
       "    <tr>\n",
       "      <th>25995</th>\n",
       "      <td>110956</td>\n",
       "      <td>1</td>\n",
       "      <td>12</td>\n",
       "      <td>63</td>\n",
       "      <td>0.190476</td>\n",
       "    </tr>\n",
       "    <tr>\n",
       "      <th>25996</th>\n",
       "      <td>132567</td>\n",
       "      <td>1</td>\n",
       "      <td>18</td>\n",
       "      <td>66</td>\n",
       "      <td>0.272727</td>\n",
       "    </tr>\n",
       "    <tr>\n",
       "      <th>25997</th>\n",
       "      <td>30872</td>\n",
       "      <td>1</td>\n",
       "      <td>25</td>\n",
       "      <td>82</td>\n",
       "      <td>0.304878</td>\n",
       "    </tr>\n",
       "    <tr>\n",
       "      <th>25998</th>\n",
       "      <td>11718</td>\n",
       "      <td>0</td>\n",
       "      <td>7</td>\n",
       "      <td>37</td>\n",
       "      <td>0.189189</td>\n",
       "    </tr>\n",
       "  </tbody>\n",
       "</table>\n",
       "<p>25999 rows × 5 columns</p>\n",
       "</div>"
      ],
      "text/plain": [
       "       user_id  exp_group  like  view       ctr\n",
       "0        26117          1     5    21  0.238095\n",
       "1       138232          1     5    29  0.172414\n",
       "2        49204          1    10    62  0.161290\n",
       "3        49286          1     7    19  0.368421\n",
       "4       145957          1    54   129  0.418605\n",
       "...        ...        ...   ...   ...       ...\n",
       "25994     3681          0     6    28  0.214286\n",
       "25995   110956          1    12    63  0.190476\n",
       "25996   132567          1    18    66  0.272727\n",
       "25997    30872          1    25    82  0.304878\n",
       "25998    11718          0     7    37  0.189189\n",
       "\n",
       "[25999 rows x 5 columns]"
      ]
     },
     "execution_count": 3,
     "metadata": {},
     "output_type": "execute_result"
    }
   ],
   "source": [
    "# Проверка df\n",
    "df"
   ]
  },
  {
   "cell_type": "markdown",
   "id": "4dbe4373-5188-43cb-84fd-5c9db81bcf72",
   "metadata": {},
   "source": [
    "### 3. Анализ данных"
   ]
  },
  {
   "cell_type": "markdown",
   "id": "b57733eb-cf7b-49d9-9960-4b7c71ffc0a6",
   "metadata": {},
   "source": [
    "Визуализируем распределение CTR в группах 0 и 1"
   ]
  },
  {
   "cell_type": "code",
   "execution_count": 4,
   "id": "f069a656-9fc2-4c9b-8e44-21382a0e0b4b",
   "metadata": {},
   "outputs": [
    {
     "name": "stdout",
     "output_type": "stream",
     "text": [
      "mean_ctr: 0.22195492956578466\n"
     ]
    },
    {
     "data": {
      "image/png": "[encoded data removed]",
      "text/plain": [
       "<Figure size 360x360 with 1 Axes>"
      ]
     },
     "metadata": {
      "needs_background": "light"
     },
     "output_type": "display_data"
    }
   ],
   "source": [
    "# Распределение экспериментальной группы 0\n",
    "sns.displot(df[df.exp_group == 0].ctr, kde = False);\n",
    "print('mean_ctr:', df[df.exp_group == 0].ctr.mean())"
   ]
  },
  {
   "cell_type": "code",
   "execution_count": 5,
   "id": "c0f340f2-89a1-4056-9af4-9ebb0a81db6a",
   "metadata": {},
   "outputs": [
    {
     "name": "stdout",
     "output_type": "stream",
     "text": [
      "mean_ctr: 0.23648646948093363\n"
     ]
    },
    {
     "data": {
      "image/png": "[encoded data removed]",
      "text/plain": [
       "<Figure size 360x360 with 1 Axes>"
      ]
     },
     "metadata": {
      "needs_background": "light"
     },
     "output_type": "display_data"
    }
   ],
   "source": [
    "# Распределение экспериментальной группы 1\n",
    "sns.displot(df[df.exp_group == 1].ctr, kde = False);\n",
    "print('mean_ctr:', df[df.exp_group == 1].ctr.mean())"
   ]
  },
  {
   "cell_type": "markdown",
   "id": "978650ad-41a0-4523-b06f-af84d88492eb",
   "metadata": {},
   "source": [
    "При визуальном сравнении 2х распределений можно отметить общий схожий нормальный характер распределений, однако в диапазаоне 0.18-0.25 на вершине распределения видны некоторые видимые различия. В целом критичных визуальных различий в распределениях между экспериментальными группами не выявлено."
   ]
  },
  {
   "cell_type": "markdown",
   "id": "97c9940e-1e5b-4d8f-8911-70223ce251e6",
   "metadata": {},
   "source": [
    "**Задача 1. Выбрать метод анализа и сравнить CTR в двух группах.**"
   ]
  },
  {
   "cell_type": "markdown",
   "id": "ca72e518-e629-433c-abf7-d3903b32d4b0",
   "metadata": {},
   "source": [
    "***Гипотеза:*** Выдвинем гипотезу, что при использовании нового алгоритма в экспериментальной группе 1, CTR увеличится. \\\n",
    "***Нулевая гипотеза:*** средние значения CTR в контрольной и экспериментальной группaх равны. \\\n",
    "***Альтернативная гипотеза:*** средние значения CTR в экспериментальной группе выше значений в контрольной. \\\n",
    "***Пороговое значение p-value:*** 0.05"
   ]
  },
  {
   "cell_type": "markdown",
   "id": "7e4c982f-91bb-475d-b5c9-70f1502f9ab8",
   "metadata": {},
   "source": [
    "**Метод 1.** Использование пользовательского CTR"
   ]
  },
  {
   "cell_type": "code",
   "execution_count": 6,
   "id": "548b1223-7654-4477-b765-e2253354fcb5",
   "metadata": {},
   "outputs": [
    {
     "data": {
      "text/plain": [
       "MannwhitneyuResult(statistic=75455843.5, pvalue=9.550851479424271e-51)"
      ]
     },
     "execution_count": 6,
     "metadata": {},
     "output_type": "execute_result"
    }
   ],
   "source": [
    "# Сравнение непараметричиским U-критерием Манна — Уитни\n",
    "stats.mannwhitneyu(df[df.exp_group == 0].ctr, df[df.exp_group == 1].ctr, alternative='less')"
   ]
  },
  {
   "cell_type": "code",
   "execution_count": 87,
   "id": "45cdca8b-bc91-4160-a59c-f0f85e0f7cd5",
   "metadata": {},
   "outputs": [
    {
     "data": {
      "text/plain": [
       "Ttest_indResult(statistic=-13.161168998357256, pvalue=9.816547547341078e-40)"
      ]
     },
     "execution_count": 87,
     "metadata": {},
     "output_type": "execute_result"
    }
   ],
   "source": [
    "# Сравнение параметричиским T-тестом\n",
    "stats.ttest_ind(df[df.exp_group == 0].ctr, df[df.exp_group == 1].ctr, equal_var = False, alternative='less')"
   ]
  },
  {
   "cell_type": "markdown",
   "id": "4054cae7-34b1-4578-97b1-ed0bb160ff2f",
   "metadata": {},
   "source": [
    "Оба критерия однозначно показывают p-value значительно < 0.05, что позволяет нам отменить нулевую гипетезу и принять альтернативную гипетезу. \\\n",
    "**Вывод:** средние значения CTR в экпериментальной группе выше значений в контрольной"
   ]
  },
  {
   "cell_type": "markdown",
   "id": "db33bb7d-3398-45e3-b92b-9960fd6dd4ce",
   "metadata": {},
   "source": [
    "**Метод 2.** Использование общего CTR, метод bootstrap"
   ]
  },
  {
   "cell_type": "code",
   "execution_count": 22,
   "id": "e84bdd9b-08e7-445a-8a15-45e784895add",
   "metadata": {},
   "outputs": [],
   "source": [
    "def get_global_ctr(df, exp_group, count_tests = 1000):\n",
    "    \n",
    "    \"\"\"\n",
    "    функция get_global_ctr использует метод \n",
    "    bootstrap для нахождения глобальных CTR\n",
    "    --------------------\n",
    "    Параметры:\n",
    "    df - датафрейм\n",
    "    exp_group - экспериментальная группа в датафрейме\n",
    "    count_tests - число проведенных имитаций A/B тестов\n",
    "\n",
    "    Функция возвращает: \n",
    "    pd.Series(glob_ctr_list) - Series из общих CTR\n",
    "    \"\"\"\n",
    "    \n",
    "    glob_ctr_list = []\n",
    "    for _ in range(count_tests):\n",
    "        sample_data = df[df.exp_group == exp_group].sample(frac=0.5, replace=True)\n",
    "        glob_ctr = sample_data.like.sum() / sample_data.view.sum()\n",
    "        glob_ctr_list.append(glob_ctr)\n",
    "    return pd.Series(glob_ctr_list)"
   ]
  },
  {
   "cell_type": "code",
   "execution_count": 25,
   "id": "98601180-0523-4a15-a2a4-920414627688",
   "metadata": {},
   "outputs": [],
   "source": [
    "# Сохраним полученные bootstrap-распределения CTR в переменные\n",
    "glob_ctr_group_0 = get_global_ctr(df, 0)\n",
    "glob_ctr_group_1 = get_global_ctr(df, 1)"
   ]
  },
  {
   "cell_type": "markdown",
   "id": "f3ce0f3a-46e1-4fe7-b8eb-d3350e21e609",
   "metadata": {},
   "source": [
    "Визуализируем распределения общего CTR, полученные используя метод bootstrap"
   ]
  },
  {
   "cell_type": "code",
   "execution_count": 26,
   "id": "bdd97e8d-5697-43be-b443-88ef980fd212",
   "metadata": {
    "tags": []
   },
   "outputs": [
    {
     "data": {
      "image/png": "[encoded data removed]",
      "text/plain": [
       "<Figure size 360x360 with 1 Axes>"
      ]
     },
     "metadata": {
      "needs_background": "light"
     },
     "output_type": "display_data"
    }
   ],
   "source": [
    "# Распределение группы 0\n",
    "sns.displot(glob_ctr_group_0, kde = False);"
   ]
  },
  {
   "cell_type": "code",
   "execution_count": 27,
   "id": "434b73eb-7371-470e-b5d9-1fa1929c183d",
   "metadata": {},
   "outputs": [
    {
     "data": {
      "image/png": "[encoded data removed]",
      "text/plain": [
       "<Figure size 360x360 with 1 Axes>"
      ]
     },
     "metadata": {
      "needs_background": "light"
     },
     "output_type": "display_data"
    }
   ],
   "source": [
    "# Распределение группы 1\n",
    "sns.displot(glob_ctr_group_1, kde = False);"
   ]
  },
  {
   "cell_type": "code",
   "execution_count": 28,
   "id": "93550b48-5cc7-4a45-b060-b406ce26249f",
   "metadata": {},
   "outputs": [
    {
     "data": {
      "text/plain": [
       "MannwhitneyuResult(statistic=0.0, pvalue=0.0)"
      ]
     },
     "execution_count": 28,
     "metadata": {},
     "output_type": "execute_result"
    }
   ],
   "source": [
    "# Сравнение непараметричиским U-критерием Манна — Уитни\n",
    "stats.mannwhitneyu(glob_ctr_group_0, glob_ctr_group_1, alternative='less')"
   ]
  },
  {
   "cell_type": "code",
   "execution_count": 29,
   "id": "55207854-0dec-447e-83bc-5d1f2fe58b84",
   "metadata": {},
   "outputs": [
    {
     "data": {
      "text/plain": [
       "Ttest_indResult(statistic=-396.48773469601286, pvalue=0.0)"
      ]
     },
     "execution_count": 29,
     "metadata": {},
     "output_type": "execute_result"
    }
   ],
   "source": [
    "# Сравнение параметричиским T-тестом\n",
    "stats.ttest_ind(glob_ctr_group_0, glob_ctr_group_1, alternative='less')"
   ]
  },
  {
   "cell_type": "code",
   "execution_count": 34,
   "id": "fe4e3524-982b-4a2c-b8e4-6123fd3a0269",
   "metadata": {},
   "outputs": [
    {
     "name": "stdout",
     "output_type": "stream",
     "text": [
      "0.2103336055664642 0.21609416115496763\n",
      "0.2270083312420334 0.23269590547819646\n"
     ]
    }
   ],
   "source": [
    "# Выборки не пересекаются\n",
    "print(glob_ctr_group_0.min(), glob_ctr_group_0.max())\n",
    "print(glob_ctr_group_1.min(), glob_ctr_group_1.max())"
   ]
  },
  {
   "cell_type": "markdown",
   "id": "109f15d8-e0b2-459b-9aa4-8f40928108c1",
   "metadata": {},
   "source": [
    "Используя метод bootstrap мы получили распределения общего CTR для групп 0 и 1. Еще на этапе визуализации можно было бы с достаточной уверенностью утверждать, что средние CTR в группе 1 выше значений в группе 0. p-value равное 0 в обоих критериях только подтверждает это, что позволяет нам отменить нулевую гипетезу и принять альтернативную гипетезу..\\\n",
    "**Вывод:** средние значения CTR в экпериментальной группе выше значений в контрольной"
   ]
  },
  {
   "cell_type": "markdown",
   "id": "bbf05392-8890-4ec9-a172-45ba814eb6c4",
   "metadata": {},
   "source": [
    "**Задача 2. Провести контрольную проверку, что новый алгоритм не привел к тому, что сократилось число просмотров у пользователей. Типичная ситуация в АB-тестах — вырастили число лайков, но уменьшили число просмотров.**"
   ]
  },
  {
   "cell_type": "code",
   "execution_count": 59,
   "id": "7f4232ff-3b7f-4b31-beec-6445807005b7",
   "metadata": {},
   "outputs": [
    {
     "name": "stdout",
     "output_type": "stream",
     "text": [
      "61.297914903439256\n"
     ]
    },
    {
     "data": {
      "image/png": "[encoded data removed]",
      "text/plain": [
       "<Figure size 360x360 with 1 Axes>"
      ]
     },
     "metadata": {
      "needs_background": "light"
     },
     "output_type": "display_data"
    }
   ],
   "source": [
    "# Распределение просмотров в группе 0\n",
    "print(df[df.exp_group == 0].view.mean())\n",
    "sns.displot(df[df.exp_group == 0].view);"
   ]
  },
  {
   "cell_type": "code",
   "execution_count": 58,
   "id": "7497971a-0249-41c1-a116-f36b4cc59d59",
   "metadata": {},
   "outputs": [
    {
     "name": "stdout",
     "output_type": "stream",
     "text": [
      "61.2005076142132\n"
     ]
    },
    {
     "data": {
      "image/png": "[encoded data removed]",
      "text/plain": [
       "<Figure size 360x360 with 1 Axes>"
      ]
     },
     "metadata": {
      "needs_background": "light"
     },
     "output_type": "display_data"
    }
   ],
   "source": [
    "# Распределение просмотров в группе 1\n",
    "print(df[df.exp_group == 1].view.mean())\n",
    "sns.displot(df[df.exp_group == 1].view);"
   ]
  },
  {
   "cell_type": "markdown",
   "id": "ca1ced13-f3ba-4aa5-a5a8-9f515475bfc6",
   "metadata": {},
   "source": [
    "Распределение далеко от нормального, поэтому сравнение выборок пока возможно провести только непараметрическими методами. Но попробуем как-то поработать с ним."
   ]
  },
  {
   "cell_type": "code",
   "execution_count": 47,
   "id": "ecb8c618-9461-4f15-ae2e-96ece63f4a99",
   "metadata": {},
   "outputs": [
    {
     "data": {
      "text/plain": [
       "<seaborn.axisgrid.FacetGrid at 0x7fa526d1deb0>"
      ]
     },
     "execution_count": 47,
     "metadata": {},
     "output_type": "execute_result"
    },
    {
     "data": {
      "image/png": "[encoded data removed]",
      "text/plain": [
       "<Figure size 360x360 with 1 Axes>"
      ]
     },
     "metadata": {
      "needs_background": "light"
     },
     "output_type": "display_data"
    }
   ],
   "source": [
    "sns.displot(np.log(df[df.exp_group == 0].view))"
   ]
  },
  {
   "cell_type": "code",
   "execution_count": 48,
   "id": "48214ebb-b351-4fdf-8493-84cbac2e8357",
   "metadata": {},
   "outputs": [
    {
     "data": {
      "text/plain": [
       "<seaborn.axisgrid.FacetGrid at 0x7fa526e35460>"
      ]
     },
     "execution_count": 48,
     "metadata": {},
     "output_type": "execute_result"
    },
    {
     "data": {
      "image/png": "[encoded data removed]",
      "text/plain": [
       "<Figure size 360x360 with 1 Axes>"
      ]
     },
     "metadata": {
      "needs_background": "light"
     },
     "output_type": "display_data"
    }
   ],
   "source": [
    "sns.displot(np.log(df[df.exp_group == 1].view))    # np.log10(df[df.exp_group == 1].view)"
   ]
  },
  {
   "cell_type": "markdown",
   "id": "156b852a-d8b6-4f50-a225-a16a081416f2",
   "metadata": {},
   "source": [
    "Распределения в в обоих группах стали заметно больше походить на нормальные. Хотя и далеки от идеального, попробуем поработать с ними."
   ]
  },
  {
   "cell_type": "markdown",
   "id": "5a89fed2-3fed-4ade-aaad-76a78897e162",
   "metadata": {},
   "source": [
    "***Гипотеза:*** Выдвинем новую гипотезу, что в группе 1 в сравнении с группой 0 уменьшилось число просмотров \\\n",
    "***Нулевая гипотеза:*** число просмотров в экспериментальной группе равно или больше, нежели в контрольной группе \\\n",
    "***Альтернативная гипотеза:*** число просмотров в экспериментальной группе меньше, чем в контрольной. \\\n",
    "***Пороговое значение p-value:*** 0.05"
   ]
  },
  {
   "cell_type": "code",
   "execution_count": 88,
   "id": "a4afc2d8-5e96-4881-9b0d-a77630a3467c",
   "metadata": {},
   "outputs": [
    {
     "data": {
      "text/plain": [
       "MannwhitneyuResult(statistic=84514942.0, pvalue=0.48586381818421304)"
      ]
     },
     "execution_count": 88,
     "metadata": {},
     "output_type": "execute_result"
    }
   ],
   "source": [
    "# Сравнение непараметричиским U-критерием Манна — Уитни\n",
    "stats.mannwhitneyu(np.log(df[df.exp_group == 0].view), np.log(df[df.exp_group == 1].view), alternative = 'greater')"
   ]
  },
  {
   "cell_type": "code",
   "execution_count": 91,
   "id": "d0cc511a-ad87-4426-b09b-d7a5fe63797c",
   "metadata": {},
   "outputs": [
    {
     "data": {
      "text/plain": [
       "Ttest_indResult(statistic=0.21340400193402262, pvalue=0.4155067663875661)"
      ]
     },
     "execution_count": 91,
     "metadata": {},
     "output_type": "execute_result"
    }
   ],
   "source": [
    "# Сравнение параметричиским T-тестом\n",
    "stats.ttest_ind(np.log(df[df.exp_group == 0].view), np.log(df[df.exp_group == 1].view), equal_var = False, alternative = 'greater')"
   ]
  },
  {
   "cell_type": "markdown",
   "id": "cff60f36-3667-4e49-959f-c1e802e77aff",
   "metadata": {},
   "source": [
    "Результаты сравнения количества просмотров в группах 0 и 1 критерием Манна-Уитни и t-тестом, со соответствующими значениями p-value 0.48 и 0.41, превышающими пороговое значение 0.05, не позволяют отменить нулевую гипотезу. \\\n",
    "**Вывод:** новый алгоритм не привел к снижению количества просмотров в экспериментальной группе."
   ]
  },
  {
   "cell_type": "markdown",
   "id": "f18cf743-ff0e-4fd2-9be9-080e3a9357ee",
   "metadata": {},
   "source": [
    "**Задача 3. Написать рекомендацию, будем ли мы раскатывать новый алгоритм на всех новых пользователей.**"
   ]
  },
  {
   "cell_type": "markdown",
   "id": "70ea626c-e433-4140-971c-83138a8d2334",
   "metadata": {},
   "source": [
    "### ВЫВОД\n",
    "По результатам A/B теста, проходившего с 2022-01-28 по 2022-02-03 включительно на группах 0 и 1, был получен статистически значимый результат: увеличение количества CTR в экспериментальной группе, при неизменившемся количестве просмотров в контрольной. Рекоменую раскатать новый алгоритм в проде на всех пользователей."
   ]
  },
  {
   "cell_type": "code",
   "execution_count": null,
   "id": "34b49075-0cd7-4a9c-aa01-38b1461ac34d",
   "metadata": {},
   "outputs": [],
   "source": []
  }
 ],
 "metadata": {
  "kernelspec": {
   "display_name": "Python 3 (ipykernel)",
   "language": "python",
   "name": "python3"
  },
  "language_info": {
   "codemirror_mode": {
    "name": "ipython",
    "version": 3
   },
   "file_extension": ".py",
   "mimetype": "text/x-python",
   "name": "python",
   "nbconvert_exporter": "python",
   "pygments_lexer": "ipython3",
   "version": "3.8.10"
  }
 },
 "nbformat": 4,
 "nbformat_minor": 5
}
